{
 "cells": [
  {
   "cell_type": "markdown",
   "metadata": {},
   "source": [
    "---\n",
    "comments: true\n",
    "layout: post\n",
    "title: College Board Quiz Reflection\n",
    "description: My Reflection On CollegeBoard\n",
    "type: hacks\n",
    "courses: { compsci: {week: 11} }\n",
    "---"
   ]
  },
  {
   "cell_type": "markdown",
   "metadata": {},
   "source": [
    "## Score : 62/66\n",
    "\n",
    "**Question 53**\n",
    "Which of the following best describes the purpose of machine learning programs?\n",
    "- To analyze large data sets, recognize patterns, and make predictions based on data\n",
    "- To automatically translate algorithms from natural language to machine language\n",
    "- To determine whether an algorithm can be constructed to answer “yes” or “no” for all possible inputs\n",
    "- To find approximate solutions to problems that would otherwise require an unreasonably long amount of time to solve\n",
    "\n",
    "I picked Option C, but the Option was A because machine learning is the process of a computer analyzing data in order to make predictions and decisions based on trends in the data.\n",
    "\n",
    "**Question 47**\n",
    "\n",
    "In public key cryptography, the sender uses the recipient’s public key to encrypt a message. Which of the following is needed to decrypt the message?\n",
    "\n",
    "- The sender’s public key\n",
    "- The sender’s private key\n",
    "- The recipient’s public key\n",
    "- The recipient’s private key\n",
    "\n",
    "I picked option B but the correct answer was D as in public cryptography, a message is encrypted with a recipient’s public key and decrypted with the recipient’s private key.\n",
    "\n",
    "**Question 56**\n",
    "Which of the following describes the result of executing the program?\n",
    "\n",
    "- The program displays the sum of the even integers from 0 to 10.\n",
    "- The program displays the sum of the even integers from 0 to 20.\n",
    "- The program displays the sum of the odd integers from 1 to 9.\n",
    "- The program displays the sum of the odd integers from 1 to 19.\n",
    "\n",
    "i picked Option B but D was correct The value of count starts at 1 and increases by twos, so it counts odd integers. The loop iterates 10\n",
    "times, adding each intermediate value of count each time. Therefore, the program displays the sum of the odd integers starting at 1 and ending at 19.\n",
    "\n",
    "**Question 59**\n",
    "\n",
    "A media librarian at a movie studio is planning to save digital video files for archival purposes. The movie studio would like to be able to access full-quality videos if they are needed for future projects. Which of the following actions is LEAST likely to support the studio’s goal?\n",
    "\n",
    "- Using video file formats that conform to published standards and are supported across many different devices\n",
    "- Using lossy compression software to reduce the size requirements of the data being stored\n",
    "- Using storage media that can be expanded for additional data capacity\n",
    "- Using a system that incorporates redundancy to handle disk failure\n",
    "\n",
    "I picked Option C but Option D was correct because using redundancy will help ensure that video files are not lost if a storage device fails."
   ]
  }
 ],
 "metadata": {
  "kernelspec": {
   "display_name": "Python 3",
   "language": "python",
   "name": "python3"
  },
  "language_info": {
   "codemirror_mode": {
    "name": "ipython",
    "version": 3
   },
   "file_extension": ".py",
   "mimetype": "text/x-python",
   "name": "python",
   "nbconvert_exporter": "python",
   "pygments_lexer": "ipython3",
   "version": "3.11.2"
  },
  "orig_nbformat": 4
 },
 "nbformat": 4,
 "nbformat_minor": 2
}
