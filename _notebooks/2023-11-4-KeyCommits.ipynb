{
 "cells": [
  {
   "cell_type": "markdown",
   "metadata": {},
   "source": [
    "---\n",
    "comments: true\n",
    "layout: post\n",
    "title: Key Commits\n",
    "description: Some important commits for our project Pheonix\n",
    "type: tangibles\n",
    "courses: { compsci: {week: 11} }\n",
    "---"
   ]
  },
  {
   "cell_type": "markdown",
   "metadata": {},
   "source": [
    "Key Commit 1\n",
    "\n",
    "\n",
    "\n",
    "https://github.com/spooketti/Phoenix/commit/d76a3012370de0df43034f32fc2ce1d68a1ec99f\n",
    "\n",
    "Key Commit 2\n",
    "\n",
    "https://github.com/spooketti/Phoenix/commit/8829960542997d1abcf38fcb8a150cd91ac9b3c6\n",
    "\n",
    "Key Commit 3\n",
    "\n",
    "https://github.com/spooketti/Phoenix/commit/1ba712869ff9ea0ccedf86e4ac6a25b32322aa7a\n",
    "\n",
    "\n",
    "\n",
    "\n",
    "\n",
    "\n"
   ]
  }
 ],
 "metadata": {
  "kernelspec": {
   "display_name": "Python 3",
   "language": "python",
   "name": "python3"
  },
  "language_info": {
   "codemirror_mode": {
    "name": "ipython",
    "version": 3
   },
   "file_extension": ".py",
   "mimetype": "text/x-python",
   "name": "python",
   "nbconvert_exporter": "python",
   "pygments_lexer": "ipython3",
   "version": "3.11.2"
  },
  "orig_nbformat": 4
 },
 "nbformat": 4,
 "nbformat_minor": 2
}
