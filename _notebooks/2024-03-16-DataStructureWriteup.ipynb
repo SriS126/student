{
 "cells": [
  {
   "cell_type": "markdown",
   "metadata": {},
   "source": [
    "---\n",
    "toc: False\n",
    "comments: True\n",
    "layout: post\n",
    "title: Data Structures Write Up\n",
    "description: My writeup for data structures and the feature of my cpt incorporated\n",
    "type: tangibles\n",
    "courses: {'compsci': {'week': 10}}\n",
    "---"
   ]
  },
  {
   "cell_type": "markdown",
   "metadata": {},
   "source": [
    "## Collections\n",
    "Blog Python Model code and SQLite Database.\n",
    "- From VSCode using SQLite3 Editor, show your unique collection/table in database, display rows and columns in the table of the SQLite database.\n",
    "![](/student/images/z1.png)\n",
    "- From VSCode model, show your unique code that was created to initialize table and create test data.\n",
    "![](/student/images/z2.png)\n",
    "![](/student/images/zthree.png)\n",
    "\n",
    "## Lists and Dictionaries\n",
    "Blog Python API code and use of List and Dictionaries.\n",
    "- In VSCode using Debugger, show a list as extracted from database as Python objects.\n",
    "![](/student/images/z4.png)\n",
    "- In VSCode use Debugger and list, show two distinct example examples of dictionaries, show Keys/Values using debugger.\n",
    "\n",
    "![](/student/images/z5.png)\n",
    "\n",
    "![](/student/images/z6.png)\n",
    "\n",
    "## APIs and JSON\n",
    "Blog Python API code and use of Postman to request and respond with JSON.\n",
    "- In VSCode, show Python API code definition for request and response using GET, POST, UPDATE methods. Discuss algorithmic condition used to direct request to appropriate Python method based on request method.\n",
    "![](/student/images/z7.png)\n",
    "![](/student/images/z8.png)\n",
    "![](/student/images/z9.png)\n",
    "- In VSCode, show algorithmic conditions used to validate data on a POST condition.\n",
    "![](/student/images/z10.png)\n",
    "- In Postman, show URL request and Body requirements for GET, POST, and UPDATE methods.\n",
    "![](/student/images/z11.png)\n",
    "- In Postman, show the JSON response data for 200 success conditions on GET, POST, and UPDATE methods.\n",
    "![](/student/images/z12.png)\n",
    "![](/student/images/z13.png)\n",
    "- In Postman, show the JSON response for error for 400 when missing body on a POST request. \n",
    "![](/student/images/z14.png)\n",
    "- In Postman, show the JSON response for error for 404 when providing an unknown user ID to a UPDATE request.\n",
    "![](/student/images/z15.png)\n",
    "\n",
    "## Frontend\n",
    "Blog JavaScript API fetch code and formatting code to display JSON.\n",
    "- In Chrome inspect, show response of JSON objects from fetch of GET, POST, and UPDATE methods.\n",
    "![](/student/images/z16.png)\n",
    "\n",
    "\n",
    "\n",
    "\n",
    "\n",
    "\n",
    "\n",
    "\n",
    "\n",
    "\n",
    "\n",
    "\n",
    "\n",
    "\n",
    "\n"
   ]
  }
 ],
 "metadata": {
  "language_info": {
   "name": "python"
  },
  "orig_nbformat": 4
 },
 "nbformat": 4,
 "nbformat_minor": 2
}
