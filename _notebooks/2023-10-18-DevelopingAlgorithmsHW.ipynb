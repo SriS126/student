{
 "cells": [
  {
   "cell_type": "markdown",
   "metadata": {},
   "source": [
    "---\n",
    "comments: true\n",
    "layout: post\n",
    "title: Developing Algorithms HW\n",
    "description: My homework for Developing Algorithms\n",
    "type: hacks\n",
    "courses: { compsci: {week: 9} }\n",
    "---"
   ]
  },
  {
   "cell_type": "code",
   "execution_count": 2,
   "metadata": {},
   "outputs": [
    {
     "name": "stdout",
     "output_type": "stream",
     "text": [
      "The median test grade is: 89.5\n",
      "Welcome to the Higher or Lower Game!\n",
      "Current number: 32\n",
      "Game over! Your final score is 0\n"
     ]
    }
   ],
   "source": [
    "##Question 1\n",
    "\n",
    "def find_median(grades):\n",
    "    sorted_grades = sorted(grades)\n",
    "    n = len(sorted_grades)\n",
    "    \n",
    "    if n % 2 == 0:\n",
    "        # If the number of grades is even, take the average of the two middle values\n",
    "        middle1 = sorted_grades[n // 2 - 1]\n",
    "        middle2 = sorted_grades[n // 2]\n",
    "        median = (middle1 + middle2) / 2\n",
    "    else:\n",
    "        # If the number of grades is odd, the median is the middle value\n",
    "        median = sorted_grades[n // 2]\n",
    "    \n",
    "    return median\n",
    "\n",
    "# Example grades\n",
    "test_grades = [74, 93, 36, 95, 87, 94, 92, 81]\n",
    "median_grade = find_median(test_grades)\n",
    "print(f\"The median test grade is: {median_grade}\")\n",
    "\n",
    "\n",
    "##Question 2\n",
    "import random\n",
    "\n",
    "def higher_or_lower_game():\n",
    "    current_number = random.randint(1, 100)\n",
    "    score = 0\n",
    "\n",
    "    while True:\n",
    "        print(f\"Current number: {current_number}\")\n",
    "        guess = input(\"Higher (h) or Lower (l) or Quit (q): \").lower()\n",
    "\n",
    "        if guess not in ['h', 'l', 'q']:\n",
    "            print(\"Please enter 'h' for higher, 'l' for lower, or 'q' to quit.\")\n",
    "            continue\n",
    "\n",
    "        next_number = random.randint(1, 100)\n",
    "\n",
    "        if (next_number > current_number and guess == 'h') or (next_number < current_number and guess == 'l'):\n",
    "            score += 1\n",
    "            current_number = next_number\n",
    "        else:\n",
    "            print(f\"Game over! Your final score is {score}\")\n",
    "            break\n",
    "\n",
    "# Play the game\n",
    "print(\"Welcome to the Higher or Lower Game!\")\n",
    "higher_or_lower_game()\n"
   ]
  }
 ],
 "metadata": {
  "kernelspec": {
   "display_name": "Python 3",
   "language": "python",
   "name": "python3"
  },
  "language_info": {
   "codemirror_mode": {
    "name": "ipython",
    "version": 3
   },
   "file_extension": ".py",
   "mimetype": "text/x-python",
   "name": "python",
   "nbconvert_exporter": "python",
   "pygments_lexer": "ipython3",
   "version": "3.11.2"
  },
  "orig_nbformat": 4
 },
 "nbformat": 4,
 "nbformat_minor": 2
}
