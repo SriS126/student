{
 "cells": [
  {
   "cell_type": "markdown",
   "metadata": {},
   "source": [
    "---\n",
    "comments: true\n",
    "layout: post\n",
    "title: Trimester Reflection\n",
    "description: My Trimester Reflection\n",
    "type: tangibles\n",
    "courses: { compsci: {week: 11} }\n",
    "---"
   ]
  },
  {
   "cell_type": "markdown",
   "metadata": {},
   "source": [
    "## Trimester 1 Reflection\n",
    "\n",
    "**Week 0** - Tools and Equipment Overview\n",
    "In the first week, we started by different tools for coding and processing. We were introduced to setting up Github and VSCode. We built our student pages and grabbed a project to work on. Pair programming was introduced, which turned out to be a good coding method.\n",
    "\n",
    "**Week 1** - Python IO and Linux Shell\n",
    "We delved into Python IO, which allowed us to interact with the computer through our code. We also started exploring Linux Shell and Bash, learning how to navigate and perform tasks in the command line. We began building our foundation in coding.\n",
    "\n",
    "**Week 2** - JavaScript Calculator and Python Tricks\n",
    "In the second week, we built a JavaScript calculator, which helped us understand the power of JavaScript. We explored Python tricks that made coding more efficient. We continued improving our coding skills.\n",
    "\n",
    "**Week 3** - JavaScript Input and Output\n",
    "Week 3 was all about JavaScript. We learned how to take input from users and display output. We also had a pair showcase, where we presented our projects, reinforcing collaboration.\n",
    "\n",
    "**Week 4** - Data Types and Agile Methodology\n",
    "Moving into the second sprint, we dived into data types, lists, and dictionaries in Python. We also learned about Agile methodology, which was crucial for efficient project management.\n",
    "\n",
    "**Week 5**** - ITunes API and Python Flask\n",
    "In this week, we explored using APIs, particularly the iTunes API, to fetch data. We also ventured into Python Flask, a web framework. We began applying what we learned by building web applications.\n",
    "\n",
    "**Week 6** - Web Programming Basics and AWS Deployment\n",
    "We continued to build our web development skills, focusing on web programming basics. We also learned about AWS deployment, which is essential for launching web applications. Our passion projects began to take shape.\n",
    "\n",
    "**Week 7** - Data Compression and Algorithms\n",
    "We explored data compression and its importance in handling images and other data. Additionally, we delved into algorithms and data abstraction, learning the foundations of efficient problem-solving.\n",
    "\n",
    "**Week 8** - Data Extraction and Pandas\n",
    "Week 8 focused on data extraction and manipulation using Pandas, a powerful data analysis library in Python. We also started connecting machine learning concepts to fitness data.\n",
    "\n",
    "**Week 9** - Developing Algorithms and Lists/Search\n",
    "This week, we delved deeper into algorithm development and search algorithms. We learned about object-oriented programming in JavaScript and strategies for handling API data. Project work was in full swing.\n",
    "\n",
    "**Week 10** - Developing Procedures and Libraries\n",
    "We explored developing procedures and the importance of libraries in coding. Project documentation became crucial as we worked on our team project, \"Alien World.\" We further expanded our knowledge of simulations.\n",
    "\n",
    "**Week 11** - Simulations\n",
    "The final week of the trimester was dedicated to simulations. We honed our understanding of how to model real-world scenarios using simulations and improve algorithmic efficiency.\n",
    "\n",
    "**Accomplishments:**\n",
    "- LEARNED LOTS OF CODING!!\n",
    "- Can code simple games, style websites, create tables to display, use operations on stuff, use else if statements, combine and modify a list, display images\n",
    "- Worked as a team, learned about frontend and backend and contributed to my group\n",
    "\n",
    "**Next Trimester..**\n",
    "- LEARNED MORE CODING!\n",
    "- Become completely fluent in one coding language, particularly python\n",
    "- Delve more deep into github, know the complete website\n",
    "- code the passion project this tri all by myself!"
   ]
  }
 ],
 "metadata": {
  "kernelspec": {
   "display_name": "Python 3",
   "language": "python",
   "name": "python3"
  },
  "language_info": {
   "codemirror_mode": {
    "name": "ipython",
    "version": 3
   },
   "file_extension": ".py",
   "mimetype": "text/x-python",
   "name": "python",
   "nbconvert_exporter": "python",
   "pygments_lexer": "ipython3",
   "version": "3.11.2"
  },
  "orig_nbformat": 4
 },
 "nbformat": 4,
 "nbformat_minor": 2
}
