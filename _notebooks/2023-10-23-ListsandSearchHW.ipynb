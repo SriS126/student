{
 "cells": [
  {
   "cell_type": "markdown",
   "metadata": {},
   "source": [
    "---\n",
    "comments: true\n",
    "layout: post\n",
    "title: Lists and Search HW\n",
    "description: Lists and Search HW for period 1\n",
    "type: hacks\n",
    "courses: { compsci: {week: 7} }\n",
    "---"
   ]
  },
  {
   "cell_type": "code",
   "execution_count": 1,
   "metadata": {},
   "outputs": [
    {
     "name": "stdout",
     "output_type": "stream",
     "text": [
      "Here are the numbers: [10, 9, 8, 7, 6, 4, 3, 2, 1]\n",
      "There are this many numbers in the list: 9\n",
      "The first number is: 1\n",
      "The last number is: 9\n",
      "This group of numbers was chosen: [3, 4, 5]\n",
      "Is the number 7 in the list? True\n",
      "The number 6 is at position: 4\n",
      "The number 6 appears this many times: 1\n",
      "For an array of length 20, the worst-case number of iterations in a binary search is 5.\n"
     ]
    }
   ],
   "source": [
    "\n",
    "##QUESTION 1\n",
    "\n",
    "# Create a list of numbers\n",
    "numbers = [1, 2, 3, 4, 5, 6, 7, 8, 9]\n",
    "\n",
    "# Count how many numbers are in the list\n",
    "number_of_numbers = len(numbers)\n",
    "\n",
    "# Get the first number from the list\n",
    "first_number = numbers[0]\n",
    "\n",
    "# Get the last number from the list\n",
    "last_number = numbers[-1]\n",
    "\n",
    "# Pick a group of numbers from the list\n",
    "chosen_numbers = numbers[2:5]  # These are numbers at positions 2, 3, and 4\n",
    "\n",
    "# Add a new number to the list\n",
    "numbers.append(10)\n",
    "\n",
    "# Remove the number 5 from the list\n",
    "numbers.remove(5)\n",
    "\n",
    "# Put the numbers in order from small to big\n",
    "numbers.sort()\n",
    "\n",
    "# Flip the order of the numbers\n",
    "numbers.reverse()\n",
    "\n",
    "# Check if the number 7 is in the list\n",
    "is_7_present = 7 in numbers\n",
    "\n",
    "# Find where the number 6 is in the list\n",
    "position_of_6 = numbers.index(6)\n",
    "\n",
    "# Count how many times the number 6 appears in the list\n",
    "count_of_6 = numbers.count(6)\n",
    "\n",
    "# Show the results\n",
    "print(\"Here are the numbers:\", numbers)\n",
    "print(\"There are this many numbers in the list:\", number_of_numbers)\n",
    "print(\"The first number is:\", first_number)\n",
    "print(\"The last number is:\", last_number)\n",
    "print(\"This group of numbers was chosen:\", chosen_numbers)\n",
    "print(\"Is the number 7 in the list?\", is_7_present)\n",
    "print(\"The number 6 is at position:\", position_of_6)\n",
    "print(\"The number 6 appears this many times:\", count_of_6)\n",
    "\n",
    "##QUESTION 2\n",
    "\n",
    "import math\n",
    "\n",
    "def calculate_worst_case_binary_search_iterations(array_length):\n",
    "    \n",
    "    worst_case_iterations = math.ceil(math.log2(array_length))\n",
    "    return worst_case_iterations\n",
    "\n",
    "array_length = 20\n",
    "worst_case_iterations = calculate_worst_case_binary_search_iterations(array_length)\n",
    "\n",
    "print(f\"For an array of length {array_length}, the worst-case number of iterations in a binary search is {worst_case_iterations}.\")\n",
    "\n",
    "##QUESTION 3\n",
    "\n",
    "##Answer will be A because it is the only option that multiplies the values by 2\n"
   ]
  }
 ],
 "metadata": {
  "kernelspec": {
   "display_name": "Python 3",
   "language": "python",
   "name": "python3"
  },
  "language_info": {
   "codemirror_mode": {
    "name": "ipython",
    "version": 3
   },
   "file_extension": ".py",
   "mimetype": "text/x-python",
   "name": "python",
   "nbconvert_exporter": "python",
   "pygments_lexer": "ipython3",
   "version": "3.11.2"
  },
  "orig_nbformat": 4
 },
 "nbformat": 4,
 "nbformat_minor": 2
}
