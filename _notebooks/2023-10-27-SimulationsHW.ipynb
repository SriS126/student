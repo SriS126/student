{
 "cells": [
  {
   "cell_type": "markdown",
   "metadata": {},
   "source": [
    "---\n",
    "comments: true\n",
    "layout: post\n",
    "title: Simulations HW\n",
    "description: this is my simulations homework\n",
    "type: hacks\n",
    "courses: { compsci: {week: 10} }\n",
    "---"
   ]
  },
  {
   "cell_type": "code",
   "execution_count": 8,
   "metadata": {},
   "outputs": [
    {
     "name": "stdout",
     "output_type": "stream",
     "text": [
      "[37, 69, 420, 999]\n"
     ]
    }
   ],
   "source": [
    "##Question 1\n",
    "\n",
    "##creates the array, inputted random values\n",
    "arr = [69, 420, 999, 37]\n",
    "##sorts the array\n",
    "arr.sort()\n",
    "##prints the sorted array\n",
    "print(arr)\n",
    "\n",
    "##Question 2\n",
    "## Benefits: less riskier, less costly, repeatable\n",
    "## Negatives: Makes guesses based on other answers, unoriginal, could be less accurate\n",
    "\n",
    "##Question 3\n",
    "##Tiktok uses an algorithm where they display the most liked videos when you first log in, and then use what you liked or favorited to display future videos, grabbing your attention more\n",
    "\n",
    "\n"
   ]
  }
 ],
 "metadata": {
  "kernelspec": {
   "display_name": "Python 3",
   "language": "python",
   "name": "python3"
  },
  "language_info": {
   "codemirror_mode": {
    "name": "ipython",
    "version": 3
   },
   "file_extension": ".py",
   "mimetype": "text/x-python",
   "name": "python",
   "nbconvert_exporter": "python",
   "pygments_lexer": "ipython3",
   "version": "3.11.2"
  },
  "orig_nbformat": 4
 },
 "nbformat": 4,
 "nbformat_minor": 2
}
