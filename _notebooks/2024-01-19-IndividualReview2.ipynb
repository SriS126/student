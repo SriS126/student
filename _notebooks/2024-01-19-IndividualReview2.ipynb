{
 "cells": [
  {
   "cell_type": "markdown",
   "metadata": {},
   "source": [
    "---\n",
    "toc: false\n",
    "comments: true\n",
    "layout: post\n",
    "title: Individual Review Part 2\n",
    "description: This is a reflection of my comp sci journey to now, my projects, and grades\n",
    "type: tangibles\n",
    "courses: { compsci: {week: 11} }\n",
    "---"
   ]
  },
  {
   "cell_type": "markdown",
   "metadata": {},
   "source": [
    "## Trimester 1 of AP CSP\n",
    "In the first tri, I accomplished a lot of work on the front end. I had a really fun time making simple games with Soham, and learned more about JS and its implementation. I first started coding some simple quizzes and simple games. After I looked at some other games' code such as Snake and Game of life, I coded a rectangle game with moving objects. I then learned more js from the teach teaches and finally started coding our passion project Phoenix. Pheonix was a twitter-clone and allowed users to post. I mainly worked on the user profile and frontend, using a little front end and a lot of backend to store the users in a database. It was fun working on front end and backend and learning more about databases.\n",
    "\n",
    "[Phoenix Link](https://github.com/spooketti/Phoenix){:style=\"color: blue;\"}\n",
    "\n",
    "## Trimester 2 - Now\n",
    "At the beginning of the tri, my group and I worked on the binary project. Soham and I mainly focused on a binary to music program, where I played around with sound and code. I mainly worked on the frontend but helped code some of the buttons and binary conversion. Jonathan and Deva coded a video to binary conversion. I really liked this project as music is one of my hobbies, and I got to code with it. Our CPT project now is going to be a lot of programs, such as a painting program. I will be focusing on backend more now during this project.\n",
    "\n",
    "[BinaryProj Link](https://github.com/spooketti/BinaryProj){:style=\"color: blue;\"}\n",
    "\n",
    "#### Team Teaches Tri 1\n",
    "\n",
    "[BooleanandConditionals](https://sris126.github.io/student//2023/09/08/BooleanExpressionalsandCondtionalsHW_IPYNB_2_.html){:style=\"color: blue;\"}\n",
    "\n",
    "[DevelopingAlgorithms](https://sris126.github.io/student//2023/10/18/DevelopingAlgorithmsHW_IPYNB_2_.html){:style=\"color: blue;\"}\n",
    "\n",
    "[ListsandSearch](https://sris126.github.io/student//2023/10/23/ListsandSearchHW_IPYNB_2_.html){:style=\"color: blue;\"}\n",
    "\n",
    "[Procedures](https://sris126.github.io/student//2023/10/26/ProceduresHW_IPYNB_2_.html){:style=\"color: blue;\"}\n",
    "\n",
    "[Simulations](https://sris126.github.io/student//2023/10/27/SimulationsHW_IPYNB_2_.html){:style=\"color: blue;\"}\n",
    "\n",
    "[Libraries](https://sris126.github.io/student//2023/10/31/LibrariesHW_IPYNB_2_.html){:style=\"color: blue;\"}\n",
    "\n",
    "[Iteration](https://sris126.github.io/student//2023/10/22/TeamTeach_IPYNB_2_.html){:style=\"color: blue;\"}\n",
    "\n",
    "#### Team Teaches Tri 2 (So Far)\n",
    "\n",
    "[TheInternet](https://sris126.github.io/student//2023/11/27/InternetHW_IPYNB_2_.html){:style=\"color: blue;\"}\n",
    "\n",
    "[Beneficial&HarmfulEffects](https://sris126.github.io/student//2023/12/01/Beneficial_and_Harmful_Effects_IPYNB_2_.html){:style=\"color: blue;\"}\n",
    "\n",
    "[Digital Divide](https://sris126.github.io/student//2023/12/05/Digital-Divide_IPYNB_2_.html){:style=\"color: blue;\"}\n",
    "\n",
    "[Computing Bias](https://sris126.github.io/student//2023/12/10/ComputingBias_IPYNB_2_.html){:style=\"color: blue;\"}\n",
    "\n",
    "[Crowdsourcing](https://sris126.github.io/student//2023/12/14/Class_6_Crowdsourcing-copy_IPYNB_2_.html){:style=\"color: blue;\"}\n",
    "\n",
    "[Legal&EthicalConcerns](https://sris126.github.io/student//2023/12/19/Legal&EthicalConcerns_IPYNB_2_.html){:style=\"color: blue;\"}\n",
    "\n",
    "[SafeComputing](https://sris126.github.io/student//2023/12/21/Safe_ComputingP5_IPYNB_2_.html){:style=\"color: blue;\"}\n",
    "\n",
    "[Routing&Computing](https://spooketti.github.io/portfolio/pages/RoutingComputingHW.html){:style=\"color: blue;\"}\n",
    "\n",
    "## Collegeboard Quiz\n",
    "\n",
    "[ScoreandReflection](https://sris126.github.io/student//2023/12/21/CollegeBoardMCQReflection_IPYNB_2_.md_IPYNB_2_.html){:style=\"color: blue;\"}\n",
    "\n"
   ]
  }
 ],
 "metadata": {
  "kernelspec": {
   "display_name": "Python 3",
   "language": "python",
   "name": "python3"
  },
  "language_info": {
   "codemirror_mode": {
    "name": "ipython",
    "version": 3
   },
   "file_extension": ".py",
   "mimetype": "text/x-python",
   "name": "python",
   "nbconvert_exporter": "python",
   "pygments_lexer": "ipython3",
   "version": "3.11.2"
  }
 },
 "nbformat": 4,
 "nbformat_minor": 2
}
