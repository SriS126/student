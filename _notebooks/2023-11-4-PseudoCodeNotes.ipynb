{
 "cells": [
  {
   "cell_type": "markdown",
   "metadata": {},
   "source": [
    "---\n",
    "comments: true\n",
    "layout: post\n",
    "title: Pseudo Code Notes\n",
    "description: Some important pseudo code notes\n",
    "type: tangibles\n",
    "courses: { compsci: {week: 11} }\n",
    "---"
   ]
  },
  {
   "cell_type": "markdown",
   "metadata": {},
   "source": [
    "Pseudocode Summary:\n",
    "\n",
    "High-Level Logic: Pseudocode is a high-level, human-readable description of an algorithm.\n",
    "\n",
    "Universal Language: It's not tied to any specific programming language, making it universally understandable.\n",
    "\n",
    "Uses Keywords: Pseudocode employs common programming keywords like IF, FOR, WHILE, READ, and PRINT.\n",
    "\n",
    "Modular: It supports procedures and functions, allowing the division of complex problems into smaller parts.\n",
    "\n",
    "Easy to Understand: Pseudocode is designed for clarity and readability.\n",
    "\n",
    "Adaptable: It can be easily translated into actual code in a specific programming language.\n",
    "\n",
    "examples of pseudocode:\n",
    "\n",
    "Print Numbers 1 to 10:\n",
    "```\n",
    "FOR i FROM 1 TO 10\n",
    "    PRINT i\n",
    "END FOR\n",
    "Calculate Sum:\n",
    "```\n",
    "\n",
    "```\n",
    "SET sum to 0\n",
    "FOR EACH num IN numbers\n",
    "    SET sum to sum + num\n",
    "END FOR\n",
    "Find Maximum Value:\n",
    "```\n",
    "\n",
    "```\n",
    "SET max to first element of list\n",
    "FOR i FROM 2 TO LENGTH(list)\n",
    "    IF list[i] > max THEN\n",
    "        SET max to list[i]\n",
    "    END IF\n",
    "END FOR\n",
    "```\n",
    "Pseudocode serves as a flexible and clear tool for planning and communicating algorithmic ideas before writing actual code."
   ]
  }
 ],
 "metadata": {
  "kernelspec": {
   "display_name": "Python 3",
   "language": "python",
   "name": "python3"
  },
  "language_info": {
   "codemirror_mode": {
    "name": "ipython",
    "version": 3
   },
   "file_extension": ".py",
   "mimetype": "text/x-python",
   "name": "python",
   "nbconvert_exporter": "python",
   "pygments_lexer": "ipython3",
   "version": "3.11.2"
  },
  "orig_nbformat": 4
 },
 "nbformat": 4,
 "nbformat_minor": 2
}
