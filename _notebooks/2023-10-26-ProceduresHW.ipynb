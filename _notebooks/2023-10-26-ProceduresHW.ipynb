{
 "cells": [
  {
   "cell_type": "code",
   "execution_count": 2,
   "metadata": {},
   "outputs": [
    {
     "name": "stdout",
     "output_type": "stream",
     "text": [
      "Even.\n",
      "The sum of 35 and 34 is 69.\n"
     ]
    }
   ],
   "source": [
    "##Question 1\n",
    "\n",
    "def is_even_or_odd(number):\n",
    "    # checks if the number is even or odd.\n",
    "    if number % 2 == 0:\n",
    "        return \"Even\"  # if it divides by 2, it's even.\n",
    "    else:\n",
    "        return \"Odd\"  # if not, it's odd.\n",
    "\n",
    "# enters a number.\n",
    "user_input = int(input(\"Enter a number: \"))\n",
    "result = is_even_or_odd(user_input)\n",
    "# tells if odd or even.\n",
    "print(f\"{result}.\")\n",
    "\n",
    "##Question 2\n",
    "\n",
    "def summing_machine(first_number, second_number):\n",
    "    # adds the two numbers\n",
    "    return first_number + second_number\n",
    "\n",
    "# calculates sum of the two numbers\n",
    "result = summing_machine(35, 34)\n",
    "# prints result\n",
    "print(f\"The sum of 35 and 34 is {result}.\")\n"
   ]
  }
 ],
 "metadata": {
  "kernelspec": {
   "display_name": "Python 3",
   "language": "python",
   "name": "python3"
  },
  "language_info": {
   "codemirror_mode": {
    "name": "ipython",
    "version": 3
   },
   "file_extension": ".py",
   "mimetype": "text/x-python",
   "name": "python",
   "nbconvert_exporter": "python",
   "pygments_lexer": "ipython3",
   "version": "3.11.2"
  },
  "orig_nbformat": 4
 },
 "nbformat": 4,
 "nbformat_minor": 2
}
