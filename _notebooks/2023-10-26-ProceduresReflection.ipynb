{
 "cells": [
  {
   "cell_type": "markdown",
   "metadata": {},
   "source": [
    "---\n",
    "comments: true\n",
    "layout: post\n",
    "title: Procedures Reflection\n",
    "description: this is my procedures reflection\n",
    "type: tangibles\n",
    "courses: { compsci: {week: 10} }\n",
    "---"
   ]
  },
  {
   "cell_type": "markdown",
   "metadata": {},
   "source": [
    "Procedures and Their Significance:\n",
    "\n",
    "Procedures, also known as functions or methods depending on the programming language, are named groups of programming instructions that can take parameters and return values.\n",
    "They serve the purpose of abstraction, encapsulating a set of instructions that can be reused without rewriting the code.\n",
    "When calling a procedure, it interrupts the sequential execution of statements, and control is transferred to the procedure. Once the procedure's execution is complete, control returns to the point immediately following the procedure call. Arguments, specified during the procedure call, provide values for the parameters defined within the procedure.\n",
    "\n",
    "Python Procedures:\n",
    "\n",
    "In Python, a function is defined using the def keyword, followed by the function name, parameters, and a colon.\n",
    "Functions can return values using the return statement, and they can have input parameters that accept values during the function call. Python functions are reusable, making it easier to organize and simplify code.\n",
    "\n",
    "Defining and Calling a Procedure in Python:\n",
    "```\n",
    "def summing_machine(first_num, second_num):\n",
    "    print(first_numb + second_num)\n",
    "\n",
    "summing_machine(3, 149)\n",
    "```\n",
    "\n",
    "Procedural Abstraction:\n",
    "\n",
    "Procedures are an example of abstraction, allowing you to use code without knowing the details of how it works.\n",
    "Procedural abstraction helps in solving complex problems by breaking them into smaller, manageable sub-problems.\n",
    "Modularity is achieved by dividing a program into separate procedures, making code easier to read and maintain.\n",
    "Procedures can be reused with different arguments, promoting code reusability. Procedures also provide flexibility in modifying and fixing code since changes in procedures don't affect the entire program.\n",
    "```\n",
    "def summing_machine(first_number, second_number):\n",
    "    sum_value = first_number + second_number\n",
    "    print(sum_value)\n",
    "\n",
    "summing_machine(3, 1)\n",
    "summing_machine(123, 123)\n",
    "summing_machine(69, 84)\n",
    "```\n",
    "\n",
    "\n",
    "\n"
   ]
  }
 ],
 "metadata": {
  "kernelspec": {
   "display_name": "Python 3",
   "language": "python",
   "name": "python3"
  },
  "language_info": {
   "codemirror_mode": {
    "name": "ipython",
    "version": 3
   },
   "file_extension": ".py",
   "mimetype": "text/x-python",
   "name": "python",
   "nbconvert_exporter": "python",
   "pygments_lexer": "ipython3",
   "version": "3.11.2"
  },
  "orig_nbformat": 4
 },
 "nbformat": 4,
 "nbformat_minor": 2
}
