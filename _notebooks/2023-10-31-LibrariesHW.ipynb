{
 "cells": [
  {
   "cell_type": "markdown",
   "metadata": {},
   "source": [
    "---\n",
    "comments: true\n",
    "layout: post\n",
    "title: Libraries HW\n",
    "description: this is my libraries homework\n",
    "type: hacks\n",
    "courses: { compsci: {week: 10} }\n",
    "---"
   ]
  },
  {
   "cell_type": "code",
   "execution_count": 2,
   "metadata": {},
   "outputs": [
    {
     "ename": "ModuleNotFoundError",
     "evalue": "No module named 'numpy'",
     "output_type": "error",
     "traceback": [
      "\u001b[0;31m---------------------------------------------------------------------------\u001b[0m",
      "\u001b[0;31mModuleNotFoundError\u001b[0m                       Traceback (most recent call last)",
      "Cell \u001b[0;32mIn[2], line 16\u001b[0m\n\u001b[1;32m      1\u001b[0m \u001b[39m##Question 1\u001b[39;00m\n\u001b[1;32m      2\u001b[0m \n\u001b[1;32m      3\u001b[0m \u001b[39m## Requests | requests.post - sends a POST request which sends data to a server, requests.get - sends a GET request to a specific url to get data from it\u001b[39;00m\n\u001b[0;32m   (...)\u001b[0m\n\u001b[1;32m     14\u001b[0m \n\u001b[1;32m     15\u001b[0m \u001b[39m#imports the numPy library\u001b[39;00m\n\u001b[0;32m---> 16\u001b[0m \u001b[39mimport\u001b[39;00m \u001b[39mnumpy\u001b[39;00m\n\u001b[1;32m     18\u001b[0m \u001b[39m# creates two NumPy arrays \u001b[39;00m\n\u001b[1;32m     19\u001b[0m array1 \u001b[39m=\u001b[39m np\u001b[39m.\u001b[39marray([\u001b[39m1\u001b[39m, \u001b[39m2\u001b[39m, \u001b[39m3\u001b[39m, \u001b[39m4\u001b[39m, \u001b[39m5\u001b[39m])\n",
      "\u001b[0;31mModuleNotFoundError\u001b[0m: No module named 'numpy'"
     ]
    }
   ],
   "source": [
    "##Question 1\n",
    "\n",
    "## Requests | requests.post - sends a POST request which sends data to a server, requests.get - sends a GET request to a specific url to get data from it\n",
    "## NumPy | numpy.mean - calculates the mean from an array, numpy.sum - calculates the sum of an array\n",
    "## Flask | flask.Flask - creates a flask web application, flask.route - defines routs and views functions in a flask\n",
    "\n",
    "##Question 2\n",
    "\n",
    "## The API I researched was Twitter. Something that I learned or found unique was that it allows real time streams and displays the tweet timing and data almost automatically.\n",
    "## It is a REST API, which are simple API's for building websites. It allows us to search tweets, click on profiles, comment, and like.\n",
    "## A possible scenario is when your building a website to communicate with friends and you can comment on their messages or like it.\n",
    "\n",
    "##Question 3\n",
    "\n",
    "#imports the numPy library\n",
    "pip instal numpy\n",
    "\n",
    "import numpy\n",
    "\n",
    "# creates two NumPy arrays \n",
    "array1 = np.array([1, 2, 3, 4, 5])\n",
    "array2 = np.array([6, 7, 8, 9, 10])\n",
    "\n",
    "# uses prefix functiion to do the number operation\n",
    "# calculates the element-wise sum of two arrays\n",
    "result = np.add(array1, array2)\n",
    "print(\"element-wise sum of the two arrays:\")\n",
    "print(result)\n",
    "\n",
    "# uses prefixed variable to get the shape of the array sum\n",
    "# The shape variable gives te general shape in the shape function\n",
    "array1_shape = array1.shape\n",
    "print(\"\\nShape of 'array1':\")\n",
    "print(array1_shape)\n",
    "\n",
    "##Code can't run because we need to download numpy library, but will work if it is downloaded"
   ]
  }
 ],
 "metadata": {
  "kernelspec": {
   "display_name": "Python 3",
   "language": "python",
   "name": "python3"
  },
  "language_info": {
   "codemirror_mode": {
    "name": "ipython",
    "version": 3
   },
   "file_extension": ".py",
   "mimetype": "text/x-python",
   "name": "python",
   "nbconvert_exporter": "python",
   "pygments_lexer": "ipython3",
   "version": "3.11.2"
  },
  "orig_nbformat": 4
 },
 "nbformat": 4,
 "nbformat_minor": 2
}
