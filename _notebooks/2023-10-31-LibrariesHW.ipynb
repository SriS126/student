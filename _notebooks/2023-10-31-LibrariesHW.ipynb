{
 "cells": [
  {
   "cell_type": "code",
   "execution_count": null,
   "metadata": {},
   "outputs": [],
   "source": [
    "##Question 1\n",
    "\n",
    "## Requests | requests.post - sends a POST request which sends data to a server, requests.get - sends a GET request to a specific url to get data from it\n",
    "## NumPy | numpy.mean - calculates the mean from an array, numpy.sum - calculates the sum of an array\n",
    "## Flask | flask.Flask - creates a flask web application, flask.route - defines routs and views functions in a flask\n",
    "\n",
    "##Question 2\n",
    "\n",
    "## The API I researched was Twitter. Something that I learned or found unique was that it allows real time streams and displays the tweet timing and data almost automatically.\n",
    "## It is a REST API, which are simple API's for building websites. It allows us to search tweets, click on profiles, comment, and like.\n",
    "## A possible scenario is when your building a website to communicate with friends and you can comment on their messages or like it.\n",
    "\n",
    "##Question 3\n",
    "\n",
    "#imports the numPy library\n",
    "import numpy as np\n",
    "\n",
    "# creates two NumPy arrays \n",
    "array1 = np.array([1, 2, 3, 4, 5])\n",
    "array2 = np.array([6, 7, 8, 9, 10])\n",
    "\n",
    "# uses prefix functiion to do the number operation\n",
    "# calculates the element-wise sum of two arrays\n",
    "result = np.add(array1, array2)\n",
    "print(\"Element-wise sum of the two arrays:\")\n",
    "print(result)\n",
    "\n",
    "# Use a prefixed variable to access the shape of an array.\n",
    "# The 'shape' variable gives the dimensions of the NumPy array.\n",
    "array1_shape = array1.shape\n",
    "print(\"\\nShape of 'array1':\")\n",
    "print(array1_shape)"
   ]
  }
 ],
 "metadata": {
  "kernelspec": {
   "display_name": "Python 3",
   "language": "python",
   "name": "python3"
  },
  "language_info": {
   "codemirror_mode": {
    "name": "ipython",
    "version": 3
   },
   "file_extension": ".py",
   "mimetype": "text/x-python",
   "name": "python",
   "nbconvert_exporter": "python",
   "pygments_lexer": "ipython3",
   "version": "3.11.2"
  },
  "orig_nbformat": 4
 },
 "nbformat": 4,
 "nbformat_minor": 2
}
