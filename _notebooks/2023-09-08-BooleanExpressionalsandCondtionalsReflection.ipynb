{
 "cells": [
  {
   "cell_type": "markdown",
   "metadata": {},
   "source": [
    "---\n",
    "comments: true\n",
    "layout: post\n",
    "title: Boolean Expressions and Conditionals Reflection\n",
    "description: My Boolean Expressions and Conditionals Reflection \n",
    "type: tangibles\n",
    "courses: { compsci: {week: 8} }\n",
    "---"
   ]
  },
  {
   "cell_type": "markdown",
   "metadata": {},
   "source": [
    "In this lesson, I learned about booleans and conditions and how they are important. They are important because programmers can respond differently based on outputs or inputs, and can have varied responses with conditions.\n",
    "\n",
    "Not Operator: The \"not\" operator flips a condition. It's like saying the opposite. for example:\n",
    "```\n",
    "is_raining = True\n",
    "is_not_raining = not is_raining\n",
    "```\n",
    "And Operator: The \"and\" operator combines two conditions, and the result is true only if both conditions are true. It's a way to check multiple conditions together:\n",
    "```\n",
    "x = True\n",
    "y = False\n",
    "result = x and y\n",
    "```\n",
    "\n",
    "Or Operator: The \"or\" operator returns true if at least one of the conditions is true. It's like having multiple choices:\n",
    "```\n",
    "is_cold = True\n",
    "is_freezing = True\n",
    "go_outside = is_freezing or is_cold\n",
    "```\n",
    "\n",
    "Conditionals: Condition statements are fundamental in programming. They allow us to control the flow of a program based on certain conditions or criteria. A typical condition statement has a condition, a true block, and sometimes a false block. ex:\n",
    "```\n",
    "x = 10\n",
    "if x > 5:\n",
    "    print(\"x is greater than 5\")\n",
    "else:\n",
    "    print(\"x isn't greater than 5\")\n",
    "```\n",
    "\n",
    "Elif Statement: The \"elif\" statement is used when you want to implement more criteria in your code. It's like adding more conditions after the initial \"if\" statement:\n",
    "\n",
    "```\n",
    "score = 90\n",
    "attendance = 90\n",
    "if score >= 90 and attendance >= 90:\n",
    "    result = \"Student gets an 'A+'.\"\n",
    "elif score >= 80 and attendance >= 80:\n",
    "    result = \"Student gets a 'B'.\"\n",
    "else:\n",
    "    result = \"Student needs to come to school more and study better.\"\n",
    "```\n",
    "\n"
   ]
  }
 ],
 "metadata": {
  "kernelspec": {
   "display_name": "Python 3",
   "language": "python",
   "name": "python3"
  },
  "language_info": {
   "codemirror_mode": {
    "name": "ipython",
    "version": 3
   },
   "file_extension": ".py",
   "mimetype": "text/x-python",
   "name": "python",
   "nbconvert_exporter": "python",
   "pygments_lexer": "ipython3",
   "version": "3.11.2"
  },
  "orig_nbformat": 4
 },
 "nbformat": 4,
 "nbformat_minor": 2
}
