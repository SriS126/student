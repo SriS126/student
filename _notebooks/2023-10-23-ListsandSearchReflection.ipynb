{
 "cells": [
  {
   "cell_type": "markdown",
   "metadata": {},
   "source": [
    "---\n",
    "comments: true\n",
    "layout: post\n",
    "title: Lists and Search Reflection\n",
    "description: Lists and Search Reflection\n",
    "type: tangibles\n",
    "courses: { compsci: {week: 9} }\n",
    "---"
   ]
  },
  {
   "cell_type": "markdown",
   "metadata": {},
   "source": [
    "## Lists and List Operations:\n",
    "\n",
    "Lists are fundamental data structures that store multiple elements in a specific order.\n",
    "List operations in Python and Pseudo Code allow us to manipulate these elements effectively, including accessing, inserting, appending, removing, and checking the length of lists.\n",
    "Iterating through lists using a \"for each\" loop helps perform actions on each element sequentially.\n",
    "Pseudo Code and Python are similar in how they handle lists, which makes transitioning between the two easier.\n",
    "\n",
    "## Binary Search:\n",
    "\n",
    "Binary Search is a powerful searching algorithm that works well with sorted lists.\n",
    "It's more efficient than Linear Search, especially for large lists.\n",
    "Binary Search works by dividing the search range in half with each iteration.\n",
    "The worst-case scenario for Binary Search is generally around O(log n), making it efficient for large datasets.\n",
    "\n",
    "Binary Search in Python:\n",
    "```\n",
    "arr = [2, 7, 12, 29, 33, 50, 59, 61, 68, 88, 91]\n",
    "\n",
    "def binary_search(arr, target):\n",
    "    left = 0\n",
    "    right = len(arr) - 1\n",
    "\n",
    "    while left <= right:\n",
    "        mid = (left + right) // 2\n",
    "\n",
    "        if arr[mid] == target:\n",
    "            return mid  # when element found, return its index\n",
    "        elif arr[mid] < target:\n",
    "            left = mid + 1  # searches the right half\n",
    "        else:\n",
    "            right = mid - 1  # searches the left half\n",
    "    return -1  # Element not found\n",
    "\n",
    "target = 7\n",
    "position = binary_search(arr, target)\n",
    "print(f\"The element {target} is at index {position}.\")\n",
    "```\n",
    "\n",
    "List Operations in Python:\n",
    "\n",
    "```\n",
    "my_list = [1, 2, 3]\n",
    "value = my_list[1]  # accessing elements\n",
    "my_list[2] = 5  # modifying elements\n",
    "my_list.append(4)  # appending elements\n",
    "my_list.insert(1, 6)  # inserting elements\n",
    "my_list.remove(3)  # removing elements\n",
    "length = len(my_list)  # checking length\n",
    "for item in my_list:  # iterating through the list\n",
    "    print(item)\n",
    "```"
   ]
  }
 ],
 "metadata": {
  "kernelspec": {
   "display_name": "Python 3",
   "language": "python",
   "name": "python3"
  },
  "language_info": {
   "codemirror_mode": {
    "name": "ipython",
    "version": 3
   },
   "file_extension": ".py",
   "mimetype": "text/x-python",
   "name": "python",
   "nbconvert_exporter": "python",
   "pygments_lexer": "ipython3",
   "version": "3.11.2"
  },
  "orig_nbformat": 4
 },
 "nbformat": 4,
 "nbformat_minor": 2
}
