{
 "cells": [
  {
   "cell_type": "markdown",
   "metadata": {},
   "source": [
    "---\n",
    "comments: true\n",
    "layout: post\n",
    "title: Libraries Reflection\n",
    "description: this is my libraries reflection\n",
    "type: tangibles\n",
    "courses: { compsci: {week: 10} }\n",
    "---"
   ]
  },
  {
   "cell_type": "markdown",
   "metadata": {},
   "source": [
    "Libraries, in the context of computer science and software development, are pre-written collections of code, functions, classes, and modules that provide a set of reusable and often well-tested functionalities. They are designed to help developers perform common tasks or solve specific problems without having to write everything from scratch\n",
    "\n",
    "Popcorn Hack\n",
    "```\n",
    "# Scenarios better suited for computer science libraries:\n",
    "\n",
    "# (1) Building a website with interactive features\n",
    "# (2) Writing a custom sorting algorithm\n",
    "# (3) Analyzing data from a large dataset\n",
    "# (4) Creating a simple text editor\n",
    "\n",
    "# Answer: Building a website with interactive features\n",
    "\n",
    "scenario = 1\n",
    "\n",
    "if scenario == 1:\n",
    "    print(\"Building a website with interactive features is better suited for computer science libraries.\")\n",
    "elif scenario == 2:\n",
    "    print(\"Writing a custom sorting algorithm may require computer science libraries.\")\n",
    "elif scenario == 3:\n",
    "    print(\"Analyzing data from a large dataset can benefit from computer science libraries.\")\n",
    "elif scenario == 4:\n",
    "    print(\"Creating a simple text editor may not require extensive computer science libraries.\")\n",
    "\n",
    "```"
   ]
  }
 ],
 "metadata": {
  "kernelspec": {
   "display_name": "Python 3",
   "language": "python",
   "name": "python3"
  },
  "language_info": {
   "codemirror_mode": {
    "name": "ipython",
    "version": 3
   },
   "file_extension": ".py",
   "mimetype": "text/x-python",
   "name": "python",
   "nbconvert_exporter": "python",
   "pygments_lexer": "ipython3",
   "version": "3.11.2"
  },
  "orig_nbformat": 4
 },
 "nbformat": 4,
 "nbformat_minor": 2
}
