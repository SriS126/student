{
 "cells": [
  {
   "cell_type": "markdown",
   "metadata": {},
   "source": [
    "---\n",
    "comments: true\n",
    "layout: post\n",
    "title: Data Abstraction HW\n",
    "description: My Data Abstraction HW for period 1\n",
    "type: hacks\n",
    "courses: { compsci: {week: 7} }\n",
    "---"
   ]
  },
  {
   "cell_type": "code",
   "execution_count": 6,
   "metadata": {},
   "outputs": [
    {
     "name": "stdout",
     "output_type": "stream",
     "text": [
      "Hi, sri! Welcome to CSP.\n",
      "6\n",
      "2.0\n",
      "Sri is very cool\n",
      "Srini is not cool\n"
     ]
    }
   ],
   "source": [
    "##Greeting\n",
    "name_input = input(\"Enter your name: \")\n",
    "greeting = f\"Hi, {name_input}! Welcome to CSP.\"\n",
    "print(greeting)\n",
    "\n",
    "##Question 1\n",
    "num1Int = 2\n",
    "num2Int = 4\n",
    "print(num1Int + num2Int)\n",
    "\n",
    "##Question 2\n",
    "float1 = 4.6\n",
    "float2 = 2.3\n",
    "print(float1 / float2) \n",
    "\n",
    "#Question 3\n",
    "sentence = \"{0} is {1} cool\"\n",
    "\n",
    "print(sentence.format(\"Sri\", \"very\"))\n",
    "\n",
    "print (sentence.format(\"Srini\", \"not\"))\n",
    "\n",
    "\n"
   ]
  }
 ],
 "metadata": {
  "kernelspec": {
   "display_name": "Python 3",
   "language": "python",
   "name": "python3"
  },
  "language_info": {
   "codemirror_mode": {
    "name": "ipython",
    "version": 3
   },
   "file_extension": ".py",
   "mimetype": "text/x-python",
   "name": "python",
   "nbconvert_exporter": "python",
   "pygments_lexer": "ipython3",
   "version": "3.11.2"
  },
  "orig_nbformat": 4
 },
 "nbformat": 4,
 "nbformat_minor": 2
}
