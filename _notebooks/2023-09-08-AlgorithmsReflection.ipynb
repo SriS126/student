{
 "cells": [
  {
   "cell_type": "markdown",
   "metadata": {
    "vscode": {
     "languageId": "plaintext"
    }
   },
   "source": [
    "---\n",
    "comments: true\n",
    "layout: post\n",
    "title: Algorithms Reflection\n",
    "description: My Algorithms Reflections\n",
    "type: tangibles\n",
    "courses: { compsci: {week: 7} }\n",
    "---"
   ]
  },
  {
   "cell_type": "markdown",
   "metadata": {},
   "source": [
    "## Algorithms Reflection/Key Points\n",
    "\n",
    "I learned a lot from algorithms, because they are important for data storage, sorting and processing, and machine learning:\n",
    "\n",
    "Algorithms: These are like step-by-step instructions for computers. We learned about different types, like sequences, selections, and iterations.\n",
    "\n",
    "Pseudocode: It's like planning out what to do before writing actual code, so everyone understands the plan.\n",
    "\n",
    "String Operations: We can do cool things with words, like combining them or cutting parts out. For instance, you can create a new word by adding two words together, just like this:\n",
    "\n",
    "```new_word = \"Hello\" + \"World```\n",
    "\n",
    "Or, you can pick out a part of a word like this:\n",
    "\n",
    "```\n",
    "word = \"Computer\"\n",
    "part = word[0:4]\n",
    "```\n",
    "\n",
    "Fibonacci Sequence: This is a list of numbers where each number is the sum of the two before it. We can create this sequence with code, like this:\n",
    "```\n",
    "f0 = 0\n",
    "f1 = 1\n",
    "fib_list = [f0, f1]\n",
    "\n",
    "for i in range(n-2):\n",
    "    x = fib_list[-1]\n",
    "    y = fib_list[-2]\n",
    "    fib_list.append(x + y)\n",
    "```\n",
    "\n",
    "Bubble Sort: We also learned how to sort a list of numbers using the bubble sort algorithm. It's like organizing a messy room step by step.\n",
    "```\n",
    "numbers = [5, 3, 8, 1, 7]\n",
    "n = len(numbers)\n",
    "\n",
    "for i in range(n):\n",
    "    for j in range(0, n-i-1):\n",
    "        if numbers[j] > numbers[j+1]:\n",
    "            numbers[j], numbers[j+1] = numbers[j+1], numbers[j]\n",
    "```"
   ]
  }
 ],
 "metadata": {
  "kernelspec": {
   "display_name": "Python 3",
   "language": "python",
   "name": "python3"
  },
  "language_info": {
   "codemirror_mode": {
    "name": "ipython",
    "version": 3
   },
   "file_extension": ".py",
   "mimetype": "text/x-python",
   "name": "python",
   "nbconvert_exporter": "python",
   "pygments_lexer": "ipython3",
   "version": "3.11.2"
  },
  "orig_nbformat": 4
 },
 "nbformat": 4,
 "nbformat_minor": 2
}
