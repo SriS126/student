{
 "cells": [
  {
   "cell_type": "markdown",
   "metadata": {},
   "source": [
    "---\n",
    "toc: False\n",
    "comments: True\n",
    "layout: post\n",
    "title: N@M\n",
    "description: My N@M Reflection\n",
    "type: tangibles\n",
    "courses: {'compsci': {'week': 9}}\n",
    "---"
   ]
  },
  {
   "cell_type": "markdown",
   "metadata": {},
   "source": [
    "## <span style=\"color: red;\">Team Blog</span>\n",
    "#### Glows\n",
    "- We showed all our features effectively and demonstrated our backend, login, and signup\n",
    "- The visitors played around with our image editor and painter, colored a lot of cats\n",
    "- We could explain our code pretty well and explained what an \"api\" is and what \"jwt\" is\n",
    "- We learned about others code too, we visited other people's projects after our shift\n",
    "\n",
    "#### Grows\n",
    "- We could've let the people experiment on our code and run it locally\n",
    "- We should've went more in depth in our code, just gave a brief overview\n",
    "- We wanted to show the use of api's more as they still wanted to know how they work\n",
    "- We should've had a greater pitch or like enthusiasm\n",
    "\n",
    "#### Feedback\n",
    "- For my color painter, I should've added a feature where you can upload an image and color it, then save it\n",
    "- I want to add more features and make the eraser an individual icon\n",
    "- I would like to add the moving background of our homepage to my thing behind\n",
    "- I wanted to work on the backend a bit more, maybe even add a saved profile system that let's you see ur saved work\n",
    "\n",
    "#### Pic\n",
    "[Link (Couldn't get it show)](https://docs.google.com/document/d/1bPZdaQxkjQYV6Z4axGrRgJTM8nIlHT1hgwrNaB2tbGg/edit?usp=sharing)\n",
    "\n",
    "## <span style=\"color: red;\">Event Blog</span>\n",
    "\n",
    "[Link (Couldn't get it show)](https://docs.google.com/document/d/1T0q6QJYEsblreeOQprcPHzogEm7yKL8T9fWKkpjYnyU/edit?usp=sharing)\n",
    "\n",
    "[Link (Couldn't get it show)](https://docs.google.com/document/d/1L5NDF8EM_2TkRz9XdKqY80NXx8q8G3zKPBJ7DM0Hm0E/edit?usp=sharing)"
   ]
  }
 ],
 "metadata": {
  "language_info": {
   "name": "python"
  },
  "orig_nbformat": 4
 },
 "nbformat": 4,
 "nbformat_minor": 2
}
