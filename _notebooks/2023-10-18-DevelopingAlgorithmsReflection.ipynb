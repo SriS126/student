{
 "cells": [
  {
   "cell_type": "markdown",
   "metadata": {},
   "source": [
    "---\n",
    "comments: true\n",
    "layout: post\n",
    "title: Developing Algorithms Reflection\n",
    "description: My developing algorithms reflection\n",
    "type: tangibles\n",
    "courses: { compsci: {week: 9} }\n",
    "---"
   ]
  },
  {
   "cell_type": "markdown",
   "metadata": {},
   "source": [
    "Developing Algorithms: In this lesson, I learned about developing algorithms and how they are important. They are important because it can improve code efficiency, allow people to solve problems with code, and give software solutions.\n",
    "\n",
    "Addition is with the \"+\" Operator in JS: We can use the \"+\" operator to add two numbers together in JS:\n",
    "```\n",
    "var result = 1230 + 200;\n",
    "console.log(result); // result is 1430\n",
    "```\n",
    "\n",
    "Subtraction with the \"-\" Operator in JS: The \"-\" operator allows us to subtract one number from another:\n",
    "```\n",
    "var result = 169 - 5;\n",
    "console.log(result); // Outputs 164\n",
    "```\n",
    "\n",
    "Multiplication with the \"*\" Operator in JavaScript: The \"*\" operator is used for multiplying:\n",
    "```\n",
    "var result = 3 * 7;\n",
    "console.log(result); // Outputs 21\n",
    "```\n",
    "\n",
    "Division with the \"/\" Operator in JavaScript: The \"/\" operator is used to divide numbers:\n",
    "```\n",
    "var result = 20 / 4;\n",
    "console.log(result); // Outputs 5\n",
    "```\n",
    "Remainder with the \"%\" Operator in JavaScript: The \"%\" operator gives us the remainder of a division operation:\n",
    "```\n",
    "var result = 15 % 4;\n",
    "console.log(result); // Outputs 3\n",
    "```\n",
    "Iterating: Iteration involves going through a set of laws or objectives, often using loops to complete tasks. It's an essential concept in programming for repetitive tasks.\n",
    "\n",
    "Randomization: Randomization is a technique for generating random numbers or outcomes, making each result equally likely. It's especially useful for games, simulations, and randomness in applications.\n",
    "\n",
    "Sorting a list in python:\n",
    "```\n",
    "numList = [43, 2, 6, 2, 96, 32]\n",
    "numList.sort()\n",
    "print(numList)\n",
    "```\n",
    "\n",
    "\n",
    "\n",
    "\n",
    "\n",
    "\n",
    "\n",
    "\n",
    "\n",
    "\n",
    "\n"
   ]
  }
 ],
 "metadata": {
  "kernelspec": {
   "display_name": "Python 3",
   "language": "python",
   "name": "python3"
  },
  "language_info": {
   "codemirror_mode": {
    "name": "ipython",
    "version": 3
   },
   "file_extension": ".py",
   "mimetype": "text/x-python",
   "name": "python",
   "nbconvert_exporter": "python",
   "pygments_lexer": "ipython3",
   "version": "3.11.2"
  },
  "orig_nbformat": 4
 },
 "nbformat": 4,
 "nbformat_minor": 2
}
