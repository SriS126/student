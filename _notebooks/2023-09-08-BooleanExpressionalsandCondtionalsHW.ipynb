{
 "cells": [
  {
   "cell_type": "markdown",
   "metadata": {},
   "source": [
    "---\n",
    "comments: true\n",
    "layout: post\n",
    "title: Boolean Expressions and Conditionals HW\n",
    "description: My Boolean Expressions and Conditionals HW for period 1\n",
    "type: hacks\n",
    "courses: { compsci: {week: 7} }\n",
    "---"
   ]
  },
  {
   "cell_type": "code",
   "execution_count": 1,
   "metadata": {},
   "outputs": [
    {
     "name": "stdout",
     "output_type": "stream",
     "text": [
      "You are eligible to vote!\n"
     ]
    }
   ],
   "source": [
    "# QUESTION 1\n",
    "# Person enters their age\n",
    "age = int(input(\"Enter your age: \"))\n",
    "\n",
    "# asks if the person is a citizen\n",
    "is_citizen = input(\"Are you a citizen? (yes/no): \").lower()\n",
    "\n",
    "# checks if the user is 18 and older and a citizen\n",
    "if age >= 18 and is_citizen == \"yes\":\n",
    "    # if both are true, the person can vote\n",
    "    print(\"You are eligible to vote!\")\n",
    "else:\n",
    "    # If one of them are not true, then the person can't vote\n",
    "    print(\"You ain't eligible to vote.\")\n",
    "    \n",
    "    # inputted 19 and yes they are a citizen\n"
   ]
  },
  {
   "cell_type": "code",
   "execution_count": 5,
   "metadata": {},
   "outputs": [
    {
     "name": "stdout",
     "output_type": "stream",
     "text": [
      "Sorry, work longer and harder.\n"
     ]
    }
   ],
   "source": [
    "# QUESTION 2\n",
    "# asks person for their salary\n",
    "salary = float(input(\"Enter your earnings: \"))\n",
    "\n",
    "# asks person for how much years they worked\n",
    "years_of_service = int(input(\"Enter your years of service: \"))\n",
    "\n",
    "# Check if  employee has more than 5 years of work experience\n",
    "if years_of_service > 5:\n",
    "    # Calculates the bonus amount \n",
    "    bonus = 0.05 * salary\n",
    "    print(f\"nicee! Your bonus is ${bonus:.2f}\")\n",
    "else:\n",
    "    print(\"Sorry, work longer and harder.\")\n",
    "    \n",
    "    # inputted 25,000 and put 5 years of work\n"
   ]
  },
  {
   "cell_type": "code",
   "execution_count": 4,
   "metadata": {},
   "outputs": [
    {
     "name": "stdout",
     "output_type": "stream",
     "text": [
      "Your grade: B\n"
     ]
    }
   ],
   "source": [
    "# QUESTION 3\n",
    "# asks user to enter their test score\n",
    "marks = float(input(\"Enter your test score: \"))\n",
    "\n",
    "# Determines the grade\n",
    "if marks < 25:\n",
    "    grade = 'F'\n",
    "elif marks >= 25 and marks < 45:\n",
    "    grade = 'E'\n",
    "elif marks >= 45 and marks < 50:\n",
    "    grade = 'D'\n",
    "elif marks >= 50 and marks < 60:\n",
    "    grade = 'C'\n",
    "elif marks >= 60 and marks <= 80:\n",
    "    grade = 'B'\n",
    "else:\n",
    "    grade = 'A'\n",
    "\n",
    "# Prints their grade\n",
    "print(f\"Your grade: {grade}\")\n",
    "# entered 76\n",
    "# Srini is a frog\n"
   ]
  }
 ],
 "metadata": {
  "kernelspec": {
   "display_name": "Python 3",
   "language": "python",
   "name": "python3"
  },
  "language_info": {
   "codemirror_mode": {
    "name": "ipython",
    "version": 3
   },
   "file_extension": ".py",
   "mimetype": "text/x-python",
   "name": "python",
   "nbconvert_exporter": "python",
   "pygments_lexer": "ipython3",
   "version": "3.11.2"
  },
  "orig_nbformat": 4
 },
 "nbformat": 4,
 "nbformat_minor": 2
}
