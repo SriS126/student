{
 "cells": [
  {
   "cell_type": "markdown",
   "metadata": {},
   "source": [
    "---\n",
    "comments: true\n",
    "layout: post\n",
    "title: Data Abstraction Reflection\n",
    "description: My Data Abstraction Reflection\n",
    "type: tangibles\n",
    "courses: { compsci: {week: 7} }\n",
    "---"
   ]
  },
  {
   "cell_type": "markdown",
   "metadata": {},
   "source": [
    "In this lesson, I learned about data abstraction in computer science, which is useful for building basic code functions and defining different stuff.\n",
    "\n",
    "Variables: Variables are like containers inside a program that can hold values. They act as storage units, helping us manage and organize data. Proper variable names are important. For instance, using a variable to store someone's age:\n",
    "\n",
    "```age = 25```\n",
    "\n",
    "Data Types: We discovered different data types for storing variables. For example, integers (int) for numbers, strings for texts and words, and booleans for true/false values:\n",
    "```\n",
    "name = \"Sri\"\n",
    "temperature = 75.5\n",
    "is_raining = False\n",
    "```\n",
    "Naming Conventions: Naming variables correctly is vital. Variable names should be descriptive, short, and follow specific rules like starting with a letter, not using spaces, and avoiding dashes. For instance:\n",
    "```\n",
    "high_score = 87\n",
    "num_students = 40\n",
    "is_raining_today = True\n",
    "```\n",
    "Concatenation: We explored the idea of joining different types of data, like strings. For example, combining a first name and last name:\n",
    "```\n",
    "first_name = \"Sri\"\n",
    "last_name = \"Surapaneni\"\n",
    "full_name = first_name + \" \" + last_name\n",
    "```\n",
    "Formatting: We learned about formatting data to display it according to specific rules, making it more readable. For instance:\n",
    "```\n",
    "message = \"my name is {0} and I am {1} years old.\"\n",
    "print(message.format(\"Sri\", 15))\n",
    "```\n",
    "\n",
    "Conversions: We saw how to convert data from one type to another, such as converting a dictionary into a string and back. For instance:\n",
    "```\n",
    "import json\n",
    "\n",
    "my_dict = {\"A\": 1, \"B\": 2}\n",
    "\n",
    "\n",
    "my_string_dict = json.dumps(my_dict)\n",
    "\n",
    "\n",
    "my_dict_recreated = json.loads(my_string_dict)\n",
    "```\n",
    "\n",
    "\n"
   ]
  }
 ],
 "metadata": {
  "kernelspec": {
   "display_name": "Python 3",
   "language": "python",
   "name": "python3"
  },
  "language_info": {
   "codemirror_mode": {
    "name": "ipython",
    "version": 3
   },
   "file_extension": ".py",
   "mimetype": "text/x-python",
   "name": "python",
   "nbconvert_exporter": "python",
   "pygments_lexer": "ipython3",
   "version": "3.11.2"
  },
  "orig_nbformat": 4
 },
 "nbformat": 4,
 "nbformat_minor": 2
}
